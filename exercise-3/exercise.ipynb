{
 "cells": [
  {
   "cell_type": "markdown",
   "metadata": {},
   "source": [
    "# Exercise-3\n",
    "Add the specified code for each code cell, running the cells _in order_."
   ]
  },
  {
   "cell_type": "markdown",
   "metadata": {},
   "source": [
    "Import the [`os`](https://docs.python.org/3/library/os.html). This module will (among other features) allow you to interact with your computer's [file system](https://docs.python.org/3/library/os.html#os-file-dir), similar to what we've done on the command-line."
   ]
  },
  {
   "cell_type": "code",
   "execution_count": 1,
   "metadata": {
    "collapsed": true
   },
   "outputs": [],
   "source": [
    "import os"
   ]
  },
  {
   "cell_type": "markdown",
   "metadata": {},
   "source": [
    "Use the [`getcwd()`](https://docs.python.org/3/library/os.html#os.getcwd) function to print this notebooks current working directory."
   ]
  },
  {
   "cell_type": "code",
   "execution_count": 2,
   "metadata": {
    "collapsed": false
   },
   "outputs": [
    {
     "data": {
      "text/plain": [
       "'/Users/wangchen/Desktop/infx598/module8-iteration/exercise-3'"
      ]
     },
     "execution_count": 2,
     "metadata": {},
     "output_type": "execute_result"
    }
   ],
   "source": [
    "os.getcwd()"
   ]
  },
  {
   "cell_type": "markdown",
   "metadata": {},
   "source": [
    "Use the `chdir()` function to change the current working directory to the \"root\" directory of the module (the `module8-iteration` folder).\n",
    "- Note that you can restart the Kernel in order to \"reset\" your current directory."
   ]
  },
  {
   "cell_type": "code",
   "execution_count": 15,
   "metadata": {
    "collapsed": false
   },
   "outputs": [
    {
     "data": {
      "text/plain": [
       "'/Users/wangchen/Desktop/infx598/module8-iteration'"
      ]
     },
     "execution_count": 15,
     "metadata": {},
     "output_type": "execute_result"
    }
   ],
   "source": [
    "os.chdir('/Users/wangchen/Desktop/infx598/module8-iteration')\n",
    "os.getcwd()"
   ]
  },
  {
   "cell_type": "markdown",
   "metadata": {},
   "source": [
    "[List](https://docs.python.org/3/library/os.html#os.getcwd) the contents of the current directory (which should be the `module8-iteration` folder)."
   ]
  },
  {
   "cell_type": "code",
   "execution_count": 16,
   "metadata": {
    "collapsed": false
   },
   "outputs": [
    {
     "data": {
      "text/plain": [
       "['.git',\n",
       " '.gitignore',\n",
       " 'exercise-1',\n",
       " 'exercise-2',\n",
       " 'exercise-3',\n",
       " 'LICENSE',\n",
       " 'README.md']"
      ]
     },
     "execution_count": 16,
     "metadata": {},
     "output_type": "execute_result"
    }
   ],
   "source": [
    "os.listdir()"
   ]
  },
  {
   "cell_type": "markdown",
   "metadata": {},
   "source": [
    "Open the `LICENSE` file, then use a `for` loop to print its contents (use the `end` keyword argument to avoid printing extra newlines)."
   ]
  },
  {
   "cell_type": "code",
   "execution_count": 23,
   "metadata": {
    "collapsed": false
   },
   "outputs": [
    {
     "name": "stdout",
     "output_type": "stream",
     "text": [
      "MIT License\n",
      "\n",
      "Copyright (c) 2017\n",
      "\n",
      "Permission is hereby granted, free of charge, to any person obtaining a copy\n",
      "of this software and associated documentation files (the \"Software\"), to deal\n",
      "in the Software without restriction, including without limitation the rights\n",
      "to use, copy, modify, merge, publish, distribute, sublicense, and/or sell\n",
      "copies of the Software, and to permit persons to whom the Software is\n",
      "furnished to do so, subject to the following conditions:\n",
      "\n",
      "The above copyright notice and this permission notice shall be included in all\n",
      "copies or substantial portions of the Software.\n",
      "\n",
      "THE SOFTWARE IS PROVIDED \"AS IS\", WITHOUT WARRANTY OF ANY KIND, EXPRESS OR\n",
      "IMPLIED, INCLUDING BUT NOT LIMITED TO THE WARRANTIES OF MERCHANTABILITY,\n",
      "FITNESS FOR A PARTICULAR PURPOSE AND NONINFRINGEMENT. IN NO EVENT SHALL THE\n",
      "AUTHORS OR COPYRIGHT HOLDERS BE LIABLE FOR ANY CLAIM, DAMAGES OR OTHER\n",
      "LIABILITY, WHETHER IN AN ACTION OF CONTRACT, TORT OR OTHERWISE, ARISING FROM,\n",
      "OUT OF OR IN CONNECTION WITH THE SOFTWARE OR THE USE OR OTHER DEALINGS IN THE\n",
      "SOFTWARE.\n"
     ]
    }
   ],
   "source": [
    "os.getcwd()\n",
    "with open('LICENSE') as f:\n",
    "    for line in f.readlines():\n",
    "        print(line,end='')"
   ]
  },
  {
   "cell_type": "markdown",
   "metadata": {},
   "source": [
    "Open the `.gitignore` file, then use a `for` loop to count the number of entries in the file.\n",
    "Ignoring any lines that [start with](https://docs.python.org/3.6/library/stdtypes.html#str.startswith) `#` (comments) or are blank (just a newline `\\n`)."
   ]
  },
  {
   "cell_type": "code",
   "execution_count": 35,
   "metadata": {
    "collapsed": false
   },
   "outputs": [
    {
     "name": "stdout",
     "output_type": "stream",
     "text": [
      "54\n"
     ]
    }
   ],
   "source": [
    "with open('.gitignore') as f:\n",
    "    count = 0\n",
    "    for line in f.readlines():\n",
    "        if line != '\\n' and line[0]!= '#':\n",
    "            count += 1\n",
    "    print(count)"
   ]
  },
  {
   "cell_type": "markdown",
   "metadata": {},
   "source": [
    "_Challenge!_ Open the `README.md` file, and print out just the blocks of example Python code. Python code blocks start with ```` ```python ```` (a code block with an annotation saying it's in the Python language), and end with ```` ``` ````. Note that there may be leading spaces in front of the block; use the [`strip()`](https://docs.python.org/3.6/library/stdtypes.html#str.strip) method to remove these when checking for its start and end."
   ]
  },
  {
   "cell_type": "code",
   "execution_count": 39,
   "metadata": {
    "collapsed": false
   },
   "outputs": [
    {
     "name": "stdout",
     "output_type": "stream",
     "text": [
      "```python\n",
      "\n",
      "while condition:\n",
      "\n",
      "    # lines of code to run if the condition is True\n",
      "\n",
      "```\n",
      "\n",
      "```python\n",
      "\n",
      "count = 5\n",
      "\n",
      "while count > 0:\n",
      "\n",
      "    print(count)\n",
      "\n",
      "    count = count - 1\n",
      "\n",
      "\n",
      "\n",
      "print(\"Blastoff!\")\n",
      "\n",
      "```\n",
      "\n",
      "```python\n",
      "\n",
      "count = 0  # 1. initialize the counter\n",
      "\n",
      "while count < 100:  # 2. check if the counter has reached its target\n",
      "\n",
      "    print(count)  # 3. do some work (this may be multiple statements)\n",
      "\n",
      "    count = count + 1  # 4. update the counter\n",
      "\n",
      "```\n",
      "\n",
      "```python\n",
      "\n",
      "count = 0\n",
      "\n",
      "while count == 100:  # bad condition!\n",
      "\n",
      "    print(count)\n",
      "\n",
      "    count = count + 1\n",
      "\n",
      "```\n",
      "\n",
      "```python\n",
      "\n",
      "count = 0\n",
      "\n",
      "while count < 100\n",
      "\n",
      "    print(count)\n",
      "\n",
      "    # no counter update\n",
      "\n",
      "```\n",
      "\n",
      "```python\n",
      "\n",
      "# flip a coin until it shows up heads\n",
      "\n",
      "still_flipping = True\n",
      "\n",
      "while still_flipping:\n",
      "\n",
      "    flip = random.randint(0,1)\n",
      "\n",
      "    if flip == 0:\n",
      "\n",
      "        flip = \"Heads\"\n",
      "\n",
      "    else:\n",
      "\n",
      "        flip = \"Tails\"\n",
      "\n",
      "    print(flip)\n",
      "\n",
      "    if flip == \"Heads\":\n",
      "\n",
      "        still_flipping = False\n",
      "\n",
      "```\n",
      "\n",
      "```python\n",
      "\n",
      "for local_variable in range(maximum):\n",
      "\n",
      "    # lines of code to run for each number\n",
      "\n",
      "```\n",
      "\n",
      "```python\n",
      "\n",
      "for count in range(100):\n",
      "\n",
      "  print(count)\n",
      "\n",
      "```\n",
      "\n",
      "```python\n",
      "\n",
      "# numbers 0 to 10 (not inclusive)\n",
      "\n",
      "# (0 through 9)\n",
      "\n",
      "range(10)\n",
      "\n",
      "\n",
      "\n",
      "# numbers 1 through 11 (not inclusive)\n",
      "\n",
      "# (1 through 10)\n",
      "\n",
      "range(1,11)\n",
      "\n",
      "\n",
      "\n",
      "# numbers 0 through 10 (not inclusive), skipping by 3\n",
      "\n",
      "# (0, 3, 6, 9)\n",
      "\n",
      "range(0, 10, 3)\n",
      "\n",
      "```\n",
      "\n",
      "```python\n",
      "\n",
      "my_file = open('myfile.txt')  # open the file\n",
      "\n",
      "\n",
      "\n",
      "for line in my_file:\n",
      "\n",
      "    print(line)  # print each line in the file\n",
      "\n",
      "```\n",
      "\n",
      "```python\n",
      "\n",
      "# \"open\" the file with \"write\" access\n",
      "\n",
      "file = open('myfile.txt', 'w')\n",
      "\n",
      "\n",
      "\n",
      "file.write(\"Hello world!\\n\")\n",
      "\n",
      "file.write(\"It's a mighty fine morning\\n\")\n",
      "\n",
      "```\n",
      "\n",
      "```python\n",
      "\n",
      "filename = input(\"File to open: \")  # which file to open\n",
      "\n",
      "\n",
      "\n",
      "file = open(filename)  # \"open\" the file\n",
      "\n",
      "\n",
      "\n",
      "for line in file:\n",
      "\n",
      "    print(line)\n",
      "\n",
      "```\n",
      "\n",
      "```bash\n",
      "\n",
      "$ python script.py\n",
      "\n",
      "File to open: neener neener\n",
      "\n",
      "Traceback (most recent call last):\n",
      "\n",
      "  File \"script.py\", line 4, in <module>\n",
      "\n",
      "    file = open(filename)\n",
      "\n",
      "FileNotFoundError: [Errno 2] No such file or directory: 'neener neener'\n",
      "\n",
      "```\n",
      "\n",
      "```python\n",
      "\n",
      "filename = input(\"File to open: \")\n",
      "\n",
      "\n",
      "\n",
      "try: # this might break (not our fault)\n",
      "\n",
      "    file = open(filename)\n",
      "\n",
      "    for line in file:\n",
      "\n",
      "        print(line)\n",
      "\n",
      "except:  # catching FileNotFoundError\n",
      "\n",
      "    print(\"No such file\")\n",
      "\n",
      "```\n",
      "\n"
     ]
    }
   ],
   "source": [
    "\n",
    "with open('README.md') as f:\n",
    "    flag = False\n",
    "    for line in f.readlines():\n",
    "        if line[0:3] == '```':\n",
    "            flag = not flag\n",
    "            if flag == False:\n",
    "                print(line)\n",
    "        if flag == True:\n",
    "            print(line)\n",
    "            "
   ]
  },
  {
   "cell_type": "code",
   "execution_count": null,
   "metadata": {
    "collapsed": true
   },
   "outputs": [],
   "source": []
  }
 ],
 "metadata": {
  "kernelspec": {
   "display_name": "Python 3",
   "language": "python",
   "name": "python3"
  },
  "language_info": {
   "codemirror_mode": {
    "name": "ipython",
    "version": 3
   },
   "file_extension": ".py",
   "mimetype": "text/x-python",
   "name": "python",
   "nbconvert_exporter": "python",
   "pygments_lexer": "ipython3",
   "version": "3.6.0"
  },
  "toc": {
   "colors": {
    "hover_highlight": "#DAA520",
    "running_highlight": "#FF0000",
    "selected_highlight": "#FFD700"
   },
   "moveMenuLeft": true,
   "nav_menu": {
    "height": "30px",
    "width": "252px"
   },
   "navigate_menu": true,
   "number_sections": true,
   "sideBar": true,
   "threshold": 4,
   "toc_cell": false,
   "toc_section_display": "block",
   "toc_window_display": false,
   "widenNotebook": false
  }
 },
 "nbformat": 4,
 "nbformat_minor": 2
}
